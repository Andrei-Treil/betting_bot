{
 "cells": [
  {
   "cell_type": "code",
   "execution_count": 1,
   "metadata": {},
   "outputs": [],
   "source": [
    "# import statements\n",
    "import numpy as np\n",
    "import requests\n",
    "from bs4 import BeautifulSoup, Comment\n",
    "import time\n",
    "import csv\n",
    "from collections import defaultdict\n",
    "import pickle\n",
    "import random\n",
    "import pandas as pd\n",
    "from util.client import Nba_Season\n",
    "from selenium import webdriver\n",
    "from selenium.webdriver.chrome.options import Options\n",
    "from selenium.webdriver.support import expected_conditions as EC\n",
    "from selenium.webdriver.support.wait import WebDriverWait\n",
    "from selenium.webdriver.common.by import By\n",
    "\n",
    "TEAM_NAME_TO_ABR = {\n",
    "        \"ATLANTA HAWKS\": 'ATL',\n",
    "        \"BOSTON CELTICS\": 'BOS',\n",
    "        \"BROOKLYN NETS\": 'BRK',\n",
    "        \"CHARLOTTE HORNETS\": 'CHO',\n",
    "        \"CHICAGO BULLS\": 'CHI',\n",
    "        \"CLEVELAND CAVALIERS\": 'CLE',\n",
    "        \"DALLAS MAVERICKS\": 'DAL',\n",
    "        \"DENVER NUGGETS\": 'DEN',\n",
    "        \"DETROIT PISTONS\": 'DET',\n",
    "        \"GOLDEN STATE WARRIORS\": 'GSW',\n",
    "        \"HOUSTON ROCKETS\": 'HOU',\n",
    "        \"INDIANA PACERS\": 'IND',\n",
    "        \"LOS ANGELES CLIPPERS\": 'LAC',\n",
    "        \"LOS ANGELES LAKERS\": 'LAL',\n",
    "        \"MEMPHIS GRIZZLIES\": 'MEM',\n",
    "        \"MIAMI HEAT\": 'MIA',\n",
    "        \"MILWAUKEE BUCKS\": 'MIL',\n",
    "        \"MINNESOTA TIMBERWOLVES\": 'MIN',\n",
    "        \"NEW ORLEANS PELICANS\": 'NOP',\n",
    "        \"NEW YORK KNICKS\": 'NYK',\n",
    "        \"OKLAHOMA CITY THUNDER\": 'OKC',\n",
    "        \"ORLANDO MAGIC\": 'ORL',\n",
    "        \"PHILADELPHIA 76ERS\": 'PHI',\n",
    "        \"PHOENIX SUNS\": 'PHO',\n",
    "        \"PORTLAND TRAIL BLAZERS\": 'POR',\n",
    "        \"SACRAMENTO KINGS\": 'SAC',\n",
    "        \"SAN ANTONIO SPURS\": 'SAS',\n",
    "        \"TORONTO RAPTORS\": 'TOR',\n",
    "        \"UTAH JAZZ\": 'UTA',\n",
    "        \"WASHINGTON WIZARDS\": 'WAS',\n",
    "\n",
    "        # DEPRECATED TEAMS\n",
    "        # \"CHARLOTTE BOBCATS\": 'CHA',\n",
    "        # \"KANSAS CITY KINGS\": 'KCK',\n",
    "        # \"NEW JERSEY NETS\": 'NJN',\n",
    "        # \"NEW ORLEANS HORNETS\": 'NOH',\n",
    "        # \"NEW ORLEANS/OKLAHOMA CITY HORNETS\": 'NOK',\n",
    "        # \"SEATTLE SUPERSONICS\": 'SEA',\n",
    "        # \"ST. LOUIS HAWKS\": 'STL',\n",
    "        # \"VANCOUVER GRIZZLIES\": 'VAN',\n",
    "        # \"WASHINGTON BULLETS\": 'WSB',\n",
    "    }\n",
    "\n",
    "TEAM_ABR_TO_URL = {\n",
    "        \"ATL\": 'https://www.nba.com/stats/team/1610612737',\n",
    "        \"BOS\": 'https://www.nba.com/stats/team/1610612738',\n",
    "        \"BRK\": 'https://www.nba.com/stats/team/1610612751',\n",
    "        \"CHO\": 'https://www.nba.com/stats/team/1610612766',\n",
    "        \"CHI\": 'https://www.nba.com/stats/team/1610612741',\n",
    "        \"CLE\": 'https://www.nba.com/stats/team/1610612739',\n",
    "        \"DAL\": 'https://www.nba.com/stats/team/1610612742',\n",
    "        \"DEN\": 'https://www.nba.com/stats/team/1610612743',\n",
    "        \"DET\": 'https://www.nba.com/stats/team/1610612765',\n",
    "        \"GSW\": 'https://www.nba.com/stats/team/1610612744',\n",
    "        \"HOU\": 'https://www.nba.com/stats/team/1610612745',\n",
    "        \"IND\": 'https://www.nba.com/stats/team/1610612754',\n",
    "        \"LAC\": 'https://www.nba.com/stats/team/1610612746',\n",
    "        \"LAL\": 'https://www.nba.com/stats/team/1610612747',\n",
    "        \"MEM\": 'https://www.nba.com/stats/team/1610612763',\n",
    "        \"MIA\": 'https://www.nba.com/stats/team/1610612748',\n",
    "        \"MIL\": 'https://www.nba.com/stats/team/1610612749',\n",
    "        \"MIN\": 'https://www.nba.com/stats/team/1610612750',\n",
    "        \"NOP\": 'https://www.nba.com/stats/team/1610612740',\n",
    "        \"NYK\": 'https://www.nba.com/stats/team/1610612752',\n",
    "        \"OKC\": 'https://www.nba.com/stats/team/1610612760',\n",
    "        \"ORL\": 'https://www.nba.com/stats/team/1610612753',\n",
    "        \"PHI\": 'https://www.nba.com/stats/team/1610612755',\n",
    "        \"PHO\": 'https://www.nba.com/stats/team/1610612756',\n",
    "        \"POR\": 'https://www.nba.com/stats/team/1610612757',\n",
    "        \"SAC\": 'https://www.nba.com/stats/team/1610612758',\n",
    "        \"SAS\": 'https://www.nba.com/stats/team/1610612759',\n",
    "        \"TOR\": 'https://www.nba.com/stats/team/1610612761',\n",
    "        \"UTA\": 'https://www.nba.com/stats/team/1610612762',\n",
    "        \"WAS\": 'https://www.nba.com/stats/team/1610612764',\n",
    "    }\n",
    "\n",
    "MONTH_TO_NUM = {\n",
    "        \"Jan\" : \"01\",\n",
    "        \"Feb\" : \"02\",\n",
    "        \"Mar\" : \"03\",\n",
    "        \"Apr\" : \"04\",\n",
    "        \"May\" : \"05\",\n",
    "        \"Jun\" : \"06\",\n",
    "        \"Jul\" : \"07\",\n",
    "        \"Aug\" : \"08\",\n",
    "        \"Sep\" : \"09\",\n",
    "        \"Oct\" : \"10\",\n",
    "        \"Nov\" : \"11\",\n",
    "        \"Dec\" : \"12\",\n",
    "    }\n",
    "\n",
    "ALL_TEAMS_CONC = dict.fromkeys(TEAM_ABR_TO_URL.keys()) # ABR -> dict(date -> [cum_stats,last10])"
   ]
  },
  {
   "cell_type": "markdown",
   "metadata": {},
   "source": [
    "## Map teams to NBA stats page"
   ]
  },
  {
   "cell_type": "markdown",
   "metadata": {},
   "source": [
    "PIE Formula=(PTS + FGM + FTM – FGA – FTA + Deff.REB + Off.REB/2 + AST + STL + BLK/2 – PF – TO) / (Game.PTS + Game.FGM + Game.FTM – Game.FGA – Game.FTA + Game.Deff.REB + Game.Off.REB/2 + Game.AST + Game.STL + Game.BLK/2 – Game.PF – Game.TO)\n",
    "\n",
    "https://www.nba.com/stats/team/1610612738/traditional?SeasonType=Regular+Season&Split=lastn\n",
    "\n",
    "https://www.nba.com/stats/team/1610612738/traditional?DateFrom=10%2F24%2F2023&DateTo=10%2F25%2F2023&SeasonType=Regular+Season\n",
    "\n",
    "https://www.nba.com/stats/team/1610612738/traditional?DateFrom=10%2F24%2F2023&DateTo=3%2F1%2F2024&SeasonType=Regular+Season&Split=lastn\n",
    "\n",
    "https://www.nba.com/stats/team/1610612738/onoffcourt-traditional?SeasonType=Regular+Season&DateFrom=10%2F24%2F2023&DateTo=1%2F1%2F2024\n",
    "\n",
    "https://www.nba.com/stats/team/1610612738/players-advanced?SeasonType=Regular+Season&DateFrom=10%2F24%2F2023&DateTo=1%2F1%2F2024 # PIE\n",
    "\n",
    "Find each teams game dates, get overall stats up to that point and perchance last 10?"
   ]
  },
  {
   "cell_type": "code",
   "execution_count": 15,
   "metadata": {},
   "outputs": [],
   "source": [
    "def get_cum_stats(dates,base_url):\n",
    "    '''\n",
    "    Go through list of dates and populate ALL_TEAMS_CONC\n",
    "    dates: list of dates similar to `Tue Oct 29 2013`\n",
    "    base_url: base url of NBA stats page for this team\n",
    "    abr: team abbreviation\n",
    "    RETURNS: dict mapping date -> [cum_stats, last10]\n",
    "    '''\n",
    "    options = Options()\n",
    "    chrome_ops = webdriver.ChromeOptions()\n",
    "    chrome_ops.add_argument(\"--headless\")\n",
    "    options.headless = True\n",
    "    driver = webdriver.Chrome(options=options) # requires appropriate webdriver in PATH variables, or pass path to file as arg `executable_path=`\n",
    "    # driver.implicitly_wait(2)\n",
    "    wait = WebDriverWait(driver,15)\n",
    "    out_dict = defaultdict(list)\n",
    "    missing = []\n",
    "    i = 0\n",
    "\n",
    "    for date in dates:\n",
    "        date_list = date.split()\n",
    "        team_stats = base_url + f'&DateTo={MONTH_TO_NUM[date_list[1]]}%2F{date_list[2]}%2F{date_list[3]}'\n",
    "        if i < 82:\n",
    "            team_stats += '&SeasonType=Regular+Season&Split=lastn'\n",
    "        else:\n",
    "            team_stats += '&SeasonType=Playoffs&Split=lastn'\n",
    "        driver.get(team_stats)\n",
    "        # load JS\n",
    "        try:\n",
    "            wait.until(EC.visibility_of_any_elements_located((By.TAG_NAME, 'table')))\n",
    "        except Exception as e:\n",
    "            print(f'URL: {team_stats} caused exception: {e}')\n",
    "            missing.append(date)\n",
    "            continue\n",
    "        \n",
    "        html = driver.page_source\n",
    "\n",
    "        soup = BeautifulSoup(html, 'html.parser')\n",
    "        results = soup.find_all('table')\n",
    "\n",
    "        # 24 stats total from i = 1 to 24, only care about 3 - 24\n",
    "        # GP\tMIN\tPTS\tW\tL\tWIN%\tFGM\tFGA\tFG%\t3PM\t3PA\t3P%\tFTM\tFTA\tFT%\tOREB\tDREB\tREB\tAST\tTOV\tSTL\tBLK\tPF\t+/-\n",
    "        cumalitive = results[2].find_all('td') # cum stats to this point\n",
    "        cum_stats = []\n",
    "        for e in cumalitive[3:]: # only care about last ten games?\n",
    "            cum_stats.append(float(e.text))\n",
    "\n",
    "        per_n = results[3].find_all('tr') # every 10 games ranges\n",
    "        last_10 = []\n",
    "\n",
    "        # if last 10 range includes at least 5 games, use those, else use previous 10 range\n",
    "        if float(per_n[-1].find_all('td')[1].text) >= 5 or i < 10:\n",
    "            for e in per_n[-1].find_all('td')[3:]:\n",
    "                last_10.append(float(e.text))\n",
    "            \n",
    "        else:\n",
    "            for e in per_n[-2].find_all('td')[3:]:\n",
    "                last_10.append(float(e.text))\n",
    "\n",
    "        out_dict[date].append(cum_stats)\n",
    "        out_dict[date].append(last_10)\n",
    "        i += 1\n",
    "    \n",
    "    driver.quit()\n",
    "    return out_dict,missing"
   ]
  },
  {
   "cell_type": "code",
   "execution_count": 2,
   "metadata": {},
   "outputs": [],
   "source": [
    "def get_stats_thread(info):\n",
    "    '''\n",
    "    Go through list of dates and populate ALL_TEAMS_CONC\n",
    "    dates: list of dates similar to `Tue Oct 29 2013`\n",
    "    base_url: base url of NBA stats page for this team\n",
    "    abr: team abbreviation\n",
    "    RETURNS: dict mapping date -> [cum_stats, last10]\n",
    "    '''\n",
    "    dates = info[0]\n",
    "    base_url = info[1]\n",
    "    options = Options()\n",
    "    chrome_ops = webdriver.ChromeOptions()\n",
    "    chrome_ops.add_argument(\"--headless=new\")\n",
    "    options.headless = True\n",
    "    driver = webdriver.Chrome(options=options) # requires appropriate webdriver in PATH variables, or pass path to file as arg `executable_path=`\n",
    "    # driver.implicitly_wait(2)\n",
    "    wait = WebDriverWait(driver,10,0.2)\n",
    "    out_dict = defaultdict(list)\n",
    "    missing = []\n",
    "    i = 0\n",
    "    try:\n",
    "        for date in dates:\n",
    "            date_list = date.split()\n",
    "            team_stats = base_url + f'&DateTo={MONTH_TO_NUM[date_list[1]]}%2F{date_list[2]}%2F{date_list[3]}'\n",
    "            if i < 82:\n",
    "                team_stats += '&SeasonType=Regular+Season&Split=lastn'\n",
    "            else:\n",
    "                team_stats += '&SeasonType=Playoffs&Split=lastn'\n",
    "            driver.get(team_stats)\n",
    "            # load JS\n",
    "            try:\n",
    "                wait.until(EC.visibility_of_all_elements_located((By.TAG_NAME, 'td')))\n",
    "                # wait.until(EC.visibility_of_any_elements_located((By.TAG_NAME, 'table')))\n",
    "            except Exception as e:\n",
    "                # print(f'URL: {team_stats} caused exception: {e}')\n",
    "                missing.append(date)\n",
    "                continue\n",
    "            \n",
    "            html = driver.page_source\n",
    "\n",
    "            soup = BeautifulSoup(html, 'html.parser')\n",
    "            results = soup.find_all('table')\n",
    "\n",
    "            # 24 stats total from i = 1 to 24, only care about 3 - 24\n",
    "            # GP\tMIN\tPTS\tW\tL\tWIN%\tFGM\tFGA\tFG%\t3PM\t3PA\t3P%\tFTM\tFTA\tFT%\tOREB\tDREB\tREB\tAST\tTOV\tSTL\tBLK\tPF\t+/-\n",
    "            cumalitive = results[2].find_all('td') # cum stats to this point\n",
    "            cum_stats = []\n",
    "            for e in cumalitive[3:]: # only care about last ten games?\n",
    "                cum_stats.append(float(e.text))\n",
    "\n",
    "            per_n = results[3].find_all('tr') # every 10 games ranges\n",
    "            last_10 = []\n",
    "\n",
    "            # if last 10 range includes at least 5 games, use those, else use previous 10 range\n",
    "            if float(per_n[-1].find_all('td')[1].text) >= 5 or i < 10 or len(per_n) < 2:\n",
    "                for e in per_n[-1].find_all('td')[3:]:\n",
    "                    last_10.append(float(e.text))\n",
    "                \n",
    "            else:\n",
    "                for e in per_n[-2].find_all('td')[3:]:\n",
    "                    last_10.append(float(e.text))\n",
    "\n",
    "            out_dict[date].append(cum_stats)\n",
    "            out_dict[date].append(last_10)\n",
    "            i += 1\n",
    "    except Exception as e:\n",
    "        driver.quit()\n",
    "        print(e)\n",
    "        return info[2],out_dict,missing\n",
    "    print(f'Data for: {info[2]} complete, Captured: {len(out_dict)}, Missing: {len(missing)}')\n",
    "    driver.quit()\n",
    "    return info[2],out_dict,missing"
   ]
  },
  {
   "cell_type": "code",
   "execution_count": 3,
   "metadata": {},
   "outputs": [],
   "source": [
    "games_df = pd.read_csv('../NBA/games/2023-2024_nba_season.csv',sep=',',names=['date','away','away_pt','home','home_pt'])"
   ]
  },
  {
   "cell_type": "code",
   "execution_count": 14,
   "metadata": {},
   "outputs": [],
   "source": [
    "import concurrent\n",
    "import concurrent.futures\n",
    "# import multiprocessing\n",
    "\n",
    "def one_szn_par(games_df,szn):\n",
    "    start_date = games_df['date'][0].split()\n",
    "    teams = []\n",
    "\n",
    "    # Generate list of URLS for each team\n",
    "    for team, abr in TEAM_NAME_TO_ABR.items():\n",
    "        team_games = games_df.loc[(games_df['away'].str.upper() == team) | (games_df['home'].str.upper() == team)]\n",
    "        dates = team_games['date'].to_list()\n",
    "        url = TEAM_ABR_TO_URL[abr] + f'/traditional?Season={szn}&DateFrom={MONTH_TO_NUM[start_date[1]]}%2F{start_date[2]}%2F{start_date[3]}'\n",
    "        teams.append([dates,url,abr])\n",
    "        \n",
    "    with concurrent.futures.ProcessPoolExecutor(max_workers=10) as executor:\n",
    "        results = list(executor.map(get_stats_thread,teams))\n",
    "\n",
    "    return results"
   ]
  },
  {
   "cell_type": "code",
   "execution_count": 13,
   "metadata": {},
   "outputs": [],
   "source": [
    "import concurrent\n",
    "import concurrent.futures\n",
    "# import multiprocessing\n",
    "\n",
    "def test_this(games_df,szn):\n",
    "    start_date = games_df['date'][0].split()\n",
    "    teams = []\n",
    "\n",
    "    # Generate list of URLS for each team\n",
    "    for team, abr in TEAM_NAME_TO_ABR.items():\n",
    "        team_games = games_df.loc[(games_df['away'].str.upper() == team) | (games_df['home'].str.upper() == team)]\n",
    "        dates = team_games['date'].to_list()\n",
    "        url = TEAM_ABR_TO_URL[abr] + f'/traditional?Season={szn}&DateFrom={MONTH_TO_NUM[start_date[1]]}%2F{start_date[2]}%2F{start_date[3]}'\n",
    "        teams.append([dates[0:1],url,abr])\n",
    "        \n",
    "    with concurrent.futures.ThreadPoolExecutor(max_workers=1) as executor:\n",
    "        results = list(executor.map(get_html_thread,teams[0:1]))\n",
    "\n",
    "    return results"
   ]
  },
  {
   "cell_type": "code",
   "execution_count": 14,
   "metadata": {},
   "outputs": [
    {
     "name": "stdout",
     "output_type": "stream",
     "text": [
      "URL: https://www.nba.com/stats/team/1610612737/traditional?Season=2023-24&DateFrom=10%2F24%2F2023&DateTo=10%2F25%2F2023&SeasonType=Regular+Season&Split=lastn caused exception: Message: \n",
      "\n",
      "Data for: ATL complete, Captured: 0, Missing: 1\n"
     ]
    }
   ],
   "source": [
    "games_df = pd.read_csv('../NBA/games/2023-2024_nba_season.csv',sep=',',names=['date','away','away_pt','home','home_pt'])\n",
    "results = test_this(games_df,'2023-24')"
   ]
  },
  {
   "cell_type": "code",
   "execution_count": 7,
   "metadata": {},
   "outputs": [
    {
     "name": "stdout",
     "output_type": "stream",
     "text": [
      "Data for: CLE complete, Captured: 0, Missing: 0\n",
      "Data for: BRK complete, Captured: 0, Missing: 0\n",
      "Data for: DET complete, Captured: 0, Missing: 0\n",
      "Data for: DEN complete, Captured: 0, Missing: 0\n",
      "Data for: CHO complete, Captured: 0, Missing: 0\n",
      "Data for: CHI complete, Captured: 0, Missing: 0\n",
      "Data for: GSW complete, Captured: 0, Missing: 1\n",
      "Data for: BOS complete, Captured: 0, Missing: 1\n",
      "Data for: DAL complete, Captured: 0, Missing: 1\n",
      "Data for: ATL complete, Captured: 0, Missing: 0\n"
     ]
    }
   ],
   "source": [
    "games_df = pd.read_csv('../NBA/games/2023-2024_nba_season.csv',sep=',',names=['date','away','away_pt','home','home_pt'])\n",
    "results = test_this(games_df,'2023-24')"
   ]
  },
  {
   "cell_type": "code",
   "execution_count": 25,
   "metadata": {},
   "outputs": [
    {
     "name": "stdout",
     "output_type": "stream",
     "text": [
      "GRUG\n"
     ]
    }
   ],
   "source": [
    "print('GRUG')"
   ]
  },
  {
   "cell_type": "code",
   "execution_count": 26,
   "metadata": {},
   "outputs": [],
   "source": [
    "abrs = list(TEAM_NAME_TO_ABR.values())\n",
    "\n",
    "for i in range(len(abrs)):\n",
    "    # results[i][0][\"MISSED\"] = results[i][1]\n",
    "    ALL_TEAMS_CONC[abrs[i]] = results[i][1]\n",
    "    ALL_TEAMS_CONC[abrs[i]][\"MISSED\"] = results[i][2]\n",
    "\n",
    "with open('../NBA/conc_stats/2023-2024_conc_stats.pkl', 'wb') as f:\n",
    "    pickle.dump(ALL_TEAMS_CONC,f)"
   ]
  },
  {
   "cell_type": "code",
   "execution_count": 27,
   "metadata": {},
   "outputs": [],
   "source": [
    "with open('../NBA/conc_stats/2023-2024_conc_stats.pkl', 'rb') as f:\n",
    "    save_me = pickle.load(f)"
   ]
  },
  {
   "cell_type": "code",
   "execution_count": 28,
   "metadata": {},
   "outputs": [
    {
     "name": "stdout",
     "output_type": "stream",
     "text": [
      "grug\n"
     ]
    }
   ],
   "source": [
    "print('grug')"
   ]
  },
  {
   "cell_type": "code",
   "execution_count": null,
   "metadata": {},
   "outputs": [],
   "source": [
    "start_date = games_df['date'][0].split()\n",
    "missing = defaultdict(list)\n",
    "\n",
    "for team, abr in TEAM_NAME_TO_ABR.items():\n",
    "    print(team)\n",
    "    team_games = games_df.loc[(games_df['away'].str.upper() == team) | (games_df['home'].str.upper() == team)]\n",
    "    dates = team_games['date'].to_list()\n",
    "    url = TEAM_ABR_TO_URL[abr] + f'/traditional?Season=2022-23&DateFrom={MONTH_TO_NUM[start_date[1]]}%2F{start_date[2]}%2F{start_date[3]}' # change ?Season=2022-23& to match rel szn\n",
    "    res,missed = get_cum_stats(dates,url)\n",
    "    if len(res) == 0:\n",
    "        break\n",
    "    ALL_TEAMS_CONC[abr] = res\n",
    "    missing[abr] = missed\n"
   ]
  },
  {
   "cell_type": "code",
   "execution_count": 12,
   "metadata": {},
   "outputs": [],
   "source": [
    "with open('../NBA/conc_stats/2023-2024_conc_stats.pkl', 'wb') as f:\n",
    "    pickle.dump(ALL_TEAMS_CONC,f)"
   ]
  },
  {
   "cell_type": "code",
   "execution_count": 6,
   "metadata": {},
   "outputs": [],
   "source": [
    "ALL_TEAMS_CONC = dict.fromkeys(TEAM_ABR_TO_URL.keys()) # ABR -> dict(date -> [cum_stats,last10])\n",
    "\n",
    "base_url = 'https://www.nba.com/stats/team/1610612738'\n",
    "team_stats = base_url + f'/traditional?DateFrom={10}%2F{24}%2F{2023}&DateTo={1}%2F{1}%2F{2024}&SeasonType=Regular+Season&Split=lastn'\n",
    "\n",
    "options = Options()\n",
    "options.headless = True\n",
    "driver = webdriver.Chrome() # requires appropriate webdriver in PATH variables, or pass path to file as arg `executable_path=`\n",
    "driver.implicitly_wait(10)\n",
    "wait = WebDriverWait(driver,10)\n",
    "\n",
    "driver.get(team_stats)\n",
    "\n",
    "try:\n",
    "    wait.until(EC.visibility_of(By.CSS_SELECTOR, 'table'))\n",
    "except Exception as e:\n",
    "    print(e)\n",
    "\n",
    "html = driver.page_source\n",
    "# driver.quit()\n",
    "\n",
    "soup = BeautifulSoup(html, 'html.parser')\n",
    "results = soup.find_all('table')\n",
    "\n",
    "# 24 stats total from i = 1 to 24\n",
    "# GP\tMIN\tPTS\tW\tL\tWIN%\tFGM\tFGA\tFG%\t3PM\t3PA\t3P%\tFTM\tFTA\tFT%\tOREB\tDREB\tREB\tAST\tTOV\tSTL\tBLK\tPF\t+/-\n",
    "cumalitive = results[2].find_all('td') # cum stats to this point\n",
    "cum_stats = []\n",
    "for e in cumalitive[1:]: # only care about last ten games?\n",
    "    cum_stats.append(float(e.text))\n",
    "\n",
    "per_n = results[3].find_all('td') # every 10 games ranges\n",
    "last_10 = []\n",
    "for e in per_n[-24:]: # only care about last ten games?\n",
    "    last_10.append(float(e.text))\n",
    "\n",
    "driver.quit()"
   ]
  },
  {
   "cell_type": "code",
   "execution_count": 13,
   "metadata": {},
   "outputs": [
    {
     "name": "stdout",
     "output_type": "stream",
     "text": [
      "greg\n"
     ]
    }
   ],
   "source": [
    "print('greg')"
   ]
  },
  {
   "cell_type": "markdown",
   "metadata": {},
   "source": [
    "For games 1-10, only use stats up to that point"
   ]
  },
  {
   "cell_type": "code",
   "execution_count": null,
   "metadata": {},
   "outputs": [],
   "source": [
    "def get_stats_to_date(abr,szn_start,date):\n",
    "    start_month = szn_start[0]\n",
    "    start_day = szn_start[1]\n",
    "    start_year = szn_start[2]\n",
    "    date_list = date.split()\n",
    "    month = MONTH_TO_NUM[date_list[1]]\n",
    "    day = date_list[2] if len(date_list[2]) == 2 else \"0{day}\".format(day=date_list[2])\n",
    "    year = date_list[3]\n",
    "    base_url = TEAM_ABR_TO_STATS[abr]\n",
    "\n",
    "    team_stats = base_url + f'/traditional?DateFrom={start_month}%2F{start_day}%2F{start_year}&DateTo={month}%2F{day}%2F{year}&SeasonType=Regular+Season&Split=lastn'\n",
    "    page = requests.get(team_stats)\n",
    "    soup = BeautifulSoup(page.content, 'html.parser')\n",
    "    results = soup.find_all('table')\n",
    "\n",
    "    return\n",
    "\n",
    "# self.team_stats[abr]\n",
    "def gen_stats_per_game(file_path):\n",
    "    for team,abr in TEAM_NAME_TO_ABR.items():\n",
    "        team_games = games_df.loc[(games_df['away'].str.upper() == team) | (games_df['home'].str.upper() == team)]\n",
    "        base_url = TEAM_ABR_TO_STATS[abr]\n",
    "        "
   ]
  },
  {
   "cell_type": "code",
   "execution_count": 4,
   "metadata": {},
   "outputs": [],
   "source": [
    "with open('../NBA/on_off_stats/2023-2024_on_off.pkl', 'rb') as f:\n",
    "    on_off_2023_2024 = pickle.load(f)\n",
    "with open('../NBA/on_off_stats/2023-2024_team_stats.pkl', 'rb') as f:\n",
    "    team_stats_2023_2024 = pickle.load(f)\n",
    "    \n",
    "nba_szn_2023_2024 = Nba_Season('2023','2024',team_stats=team_stats_2023_2024,team_on_off=on_off_2023_2024)\n",
    "inj = {'DAL': ['OLIVIER-MAXENCE PROSPER'], 'BOS': []}\n",
    "home_stats,away_stats = nba_szn_2023_2024.calc_injury_impact(inj, 'BOS', 'DAL')\n",
    "greg = np.subtract(away_stats,home_stats)"
   ]
  },
  {
   "cell_type": "code",
   "execution_count": 5,
   "metadata": {},
   "outputs": [
    {
     "data": {
      "text/plain": [
       "[['Thu Jun 6 2024',\n",
       "  'Dallas Mavericks',\n",
       "  '107',\n",
       "  'Boston Celtics',\n",
       "  '119',\n",
       "  '-6.5 (-106)',\n",
       "  'o214.5 (-112)',\n",
       "  '-250',\n",
       "  '+6.5 (-114)',\n",
       "  'u214.5 (-108)',\n",
       "  '+205']]"
      ]
     },
     "execution_count": 5,
     "metadata": {},
     "output_type": "execute_result"
    }
   ],
   "source": [
    "nba_szn_2023_2024.add_bet_info('test_today.csv','test_today_with_bet.csv')"
   ]
  }
 ],
 "metadata": {
  "kernelspec": {
   "display_name": ".venv",
   "language": "python",
   "name": "python3"
  },
  "language_info": {
   "codemirror_mode": {
    "name": "ipython",
    "version": 3
   },
   "file_extension": ".py",
   "mimetype": "text/x-python",
   "name": "python",
   "nbconvert_exporter": "python",
   "pygments_lexer": "ipython3",
   "version": "3.12.3"
  }
 },
 "nbformat": 4,
 "nbformat_minor": 2
}
